{
 "cells": [
  {
   "cell_type": "heading",
   "metadata": {
    "collapsed": true
   },
   "level": 3,
   "source": [
    "Naive Bayes Classifier is a machine learning method used to predict the likelihood that any\n",
    "event will occur given evidence that's present in your data"
   ]
  },
  {
   "cell_type": "code",
   "execution_count": null,
   "metadata": {},
   "outputs": [],
   "source": [
    "'''Conditional probability  = P(B|A)  =   P(A and B)\n",
    "                                          ----------\n",
    "                                             P(A)          \n",
    "Three types of Naive Bayes Classifier\n",
    "1. Multinomial -  It is appropriate when features (categorical or continuous)describe \n",
    "discrete frequency counts\n",
    "2. Bernoulli - It is good for making predictions from binary features\n",
    "3. Gaussian - It is good for making predictions from normally distributed features\n",
    "\n",
    "Assumptions\n",
    "1. Predictors are independent of each other\n",
    "2. A priori assumption - This is an assumption that the past conditions still hold true.\n",
    "   when we make predictions from historical values, we will get incorrect results if \n",
    "   present circumstances have changed.\n",
    "3. All regression models maintain an a priori assumption as well  \n",
    "                                             '''"
   ]
  },
  {
   "cell_type": "code",
   "execution_count": 2,
   "metadata": {},
   "outputs": [],
   "source": [
    "import numpy as np\n",
    "import pandas as pd\n",
    "\n",
    "import urllib.request\n",
    "import sklearn\n",
    "from sklearn.naive_bayes import BernoulliNB\n",
    "from sklearn.naive_bayes import GaussianNB\n",
    "from sklearn.naive_bayes import MultinomialNB\n",
    "from sklearn.model_selection import train_test_split\n",
    "from sklearn import metrics\n",
    "from sklearn.metrics import accuracy_score"
   ]
  },
  {
   "cell_type": "heading",
   "metadata": {},
   "level": 3,
   "source": [
    "Naive Bayes"
   ]
  },
  {
   "cell_type": "heading",
   "metadata": {},
   "level": 3,
   "source": [
    "Using naive bayes to predict Spam"
   ]
  },
  {
   "cell_type": "code",
   "execution_count": 5,
   "metadata": {},
   "outputs": [
    {
     "name": "stdout",
     "output_type": "stream",
     "text": [
      "[  0.      0.64    0.64    0.      0.32    0.      0.      0.      0.\n   0.      0.      0.64    0.      0.      0.      0.32    0.      1.29\n   1.93    0.      0.96    0.      0.      0.      0.      0.      0.\n   0.      0.      0.      0.      0.      0.      0.      0.      0.\n   0.      0.      0.      0.      0.      0.      0.      0.      0.\n   0.      0.      0.      0.      0.      0.      0.778   0.      0.\n   3.756  61.    278.      1.   ]\n"
     ]
    }
   ],
   "source": [
    "url = \"https://archive.ics.uci.edu/ml/machine-learning-databases/spambase/spambase.data\"\n",
    "raw_data = urllib.request.urlopen(url)\n",
    "dataset = np.loadtxt(raw_data,delimiter=\",\")\n",
    "print(dataset[0])"
   ]
  },
  {
   "cell_type": "code",
   "execution_count": 7,
   "metadata": {},
   "outputs": [],
   "source": [
    "X = dataset[:,0:48]\n",
    "y = dataset[:,-1]"
   ]
  },
  {
   "cell_type": "code",
   "execution_count": 12,
   "metadata": {},
   "outputs": [],
   "source": [
    "'''\n",
    "X,y -Allowed inputs should have same length/Shape. (Allowed inputs, lists,numpy arrays,\n",
    "     scipy-sparse matrices or pandas data frames)\n",
    "Test size - if float, 0.0 to 1.0 - takes as proportion into test and train. \n",
    "     By default values set to 0.25.If int, takes as no of train samples.\n",
    "     if none, the value is automatically set to the complement of the test size\n",
    "randomstate - if int, random_state is the seed used by the random number generator.\n",
    "     if RandomState instance, random_state is the random number generator\n",
    "     if None, the random number generator is the RandomState instance used by np.random\n",
    "Shuffle - (Default =True) whether or not to shuffle the data before splitting. If \n",
    "     shuffle=False then startify must be none \n",
    "Stratify - array-like or none - if not none, data is split in a startified fashion, using\n",
    "     this as the class labels \n",
    "'''\n",
    "X_train,X_test,y_train,y_test = train_test_split(X,y,test_size=0.33,random_state=17)"
   ]
  },
  {
   "cell_type": "code",
   "execution_count": 14,
   "metadata": {},
   "outputs": [
    {
     "name": "stdout",
     "output_type": "stream",
     "text": [
      "BernoulliNB(alpha=1.0, binarize=True, class_prior=None, fit_prior=True)\n0.8558262014483212\n"
     ]
    }
   ],
   "source": [
    "BernNB = BernoulliNB(binarize=True)\n",
    "BernNB.fit(X_train,y_train)\n",
    "\n",
    "print(BernNB)\n",
    "\n",
    "y_pred = BernNB.predict(X_test)\n",
    "print(accuracy_score(y_test,y_pred))"
   ]
  },
  {
   "cell_type": "code",
   "execution_count": 15,
   "metadata": {},
   "outputs": [
    {
     "name": "stdout",
     "output_type": "stream",
     "text": [
      "MultinomialNB(alpha=1.0, class_prior=None, fit_prior=True)\n0.8736010533245556\n"
     ]
    }
   ],
   "source": [
    "MultiNB = MultinomialNB()\n",
    "MultiNB.fit(X_train,y_train)\n",
    "\n",
    "print(MultiNB)\n",
    "y_expect = y_test\n",
    "y_pred = MultiNB.predict(X_test)\n",
    "print(accuracy_score(y_expect,y_pred))"
   ]
  },
  {
   "cell_type": "code",
   "execution_count": 16,
   "metadata": {},
   "outputs": [
    {
     "name": "stdout",
     "output_type": "stream",
     "text": [
      "GaussianNB(priors=None, var_smoothing=1e-09)\n0.8130348913759052\n"
     ]
    }
   ],
   "source": [
    "GausNB = GaussianNB()\n",
    "GausNB.fit(X_train,y_train)\n",
    "print(GausNB)\n",
    "\n",
    "y_pred = GausNB.predict(X_test)\n",
    "print(accuracy_score(y_expect,y_pred))"
   ]
  },
  {
   "cell_type": "heading",
   "metadata": {},
   "level": 3,
   "source": [
    "Amoung the 3 models, Multinomial NB has the highest accuracy."
   ]
  },
  {
   "cell_type": "heading",
   "metadata": {},
   "level": 3,
   "source": [
    "Further,optimal accuracy is reached by setting (Binarize=0.1) in Bernoulli NB. Check below"
   ]
  },
  {
   "cell_type": "code",
   "execution_count": 18,
   "metadata": {},
   "outputs": [
    {
     "name": "stdout",
     "output_type": "stream",
     "text": [
      "BernoulliNB(alpha=1.0, binarize=0.1, class_prior=None, fit_prior=True)\n0.8953258722843976\n"
     ]
    }
   ],
   "source": [
    "BernNB = BernoulliNB(binarize=0.1)\n",
    "BernNB.fit(X_train,y_train)\n",
    "\n",
    "print(BernNB)\n",
    "\n",
    "y_pred = BernNB.predict(X_test)\n",
    "print(accuracy_score(y_test,y_pred))"
   ]
  },
  {
   "cell_type": "heading",
   "metadata": {},
   "level": 4,
   "source": [
    "Conclusion - The Optimal accuracy achieved is 89.53%"
   ]
  }
 ],
 "metadata": {
  "kernelspec": {
   "display_name": "Python 2",
   "language": "python",
   "name": "python2"
  },
  "language_info": {
   "codemirror_mode": {
    "name": "ipython",
    "version": 2
   },
   "file_extension": ".py",
   "mimetype": "text/x-python",
   "name": "python",
   "nbconvert_exporter": "python",
   "pygments_lexer": "ipython2",
   "version": "2.7.6"
  }
 },
 "nbformat": 4,
 "nbformat_minor": 0
}
