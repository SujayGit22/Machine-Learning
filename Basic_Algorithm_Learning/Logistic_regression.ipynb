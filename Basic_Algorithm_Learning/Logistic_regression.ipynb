{
 "cells": [
  {
   "cell_type": "heading",
   "metadata": {
    "collapsed": true
   },
   "level": 4,
   "source": [
    "Logistic regression is a ML method used to predict the value of a numeric categorical variable based on its relationship\n",
    "with the predictor variable"
   ]
  },
  {
   "cell_type": "code",
   "execution_count": null,
   "metadata": {},
   "outputs": [],
   "source": [
    "''' Assuptions\n",
    "1. Data is free of missing values\n",
    "2. The predictant variable is binary(only accepts two values) or ordinal(a categorical variable \n",
    "with ordered variable\n",
    "3. All predictors are indepedent of each other\n",
    "4. There are atleast 50 observations per predictor variable (to ensure reliable status)'''"
   ]
  },
  {
   "cell_type": "code",
   "execution_count": 1,
   "metadata": {},
   "outputs": [],
   "source": [
    "import numpy as np\n",
    "import pandas as pd\n",
    "from pandas import Series,DataFrame\n",
    "\n",
    "import scipy\n",
    "from scipy.stats import spearmanr\n",
    "\n",
    "import matplotlib.pyplot as plt\n",
    "from pylab import rcParams\n",
    "import seaborn as sb\n",
    "\n",
    "import sklearn\n",
    "from sklearn.preprocessing import scale\n",
    "from sklearn.linear_model import LogisticRegression\n",
    "from sklearn.model_selection import train_test_split\n",
    "from sklearn import metrics\n",
    "from sklearn import preprocessing"
   ]
  },
  {
   "cell_type": "code",
   "execution_count": 2,
   "metadata": {},
   "outputs": [],
   "source": [
    "%matplotlib inline\n",
    "rcParams['figure.figsize'] = 5,4\n",
    "sb.set_style('whitegrid')"
   ]
  },
  {
   "cell_type": "heading",
   "metadata": {},
   "level": 3,
   "source": [
    "Logistics Regression on mtcars"
   ]
  },
  {
   "cell_type": "code",
   "execution_count": 3,
   "metadata": {},
   "outputs": [
    {
     "name": "stdout",
     "output_type": "stream",
     "text": [
      "           cars_name   mpg  cyl   disp   hp  drat     wt   qsec  vs  am  gear  \\\n0          Mazda RX4  21.0    6  160.0  110  3.90  2.620  16.46   0   1     4   \n1      Mazda RX4 Wag  21.0    6  160.0  110  3.90  2.875  17.02   0   1     4   \n2         Datsun 710  22.8    4  108.0   93  3.85  2.320  18.61   1   1     4   \n3     Hornet 4 Drive  21.4    6  258.0  110  3.08  3.215  19.44   1   0     3   \n4  Hornet Sportabout  18.7    8  360.0  175  3.15  3.440  17.02   0   0     3   \n\n   carb  \n0     4  \n1     4  \n2     1  \n3     1  \n4     2  \n"
     ]
    }
   ],
   "source": [
    "addr = \"C:/Users/Sujay/Workspace/CH05_Basic_Algorithm_Learning/mtcars.csv\"\n",
    "cars = pd.read_csv(addr)\n",
    "cars.columns = ['cars_name','mpg','cyl','disp','hp','drat','wt','qsec','vs','am','gear','carb']\n",
    "print(cars.head())"
   ]
  },
  {
   "cell_type": "code",
   "execution_count": 10,
   "metadata": {},
   "outputs": [],
   "source": [
    "cars_data = cars.loc[:,['drat','carb']].values\n",
    "cars_data_names = ['drat','carb']\n",
    "\n",
    "y = cars.iloc[:,9].values"
   ]
  },
  {
   "cell_type": "heading",
   "metadata": {},
   "level": 3,
   "source": [
    "Checking for indepedence between features, are our predictor variables are ordinal ?\n",
    "We check this using scatter plot"
   ]
  },
  {
   "cell_type": "code",
   "execution_count": 11,
   "metadata": {},
   "outputs": [
    {
     "data": {
      "text/plain": [
       "<matplotlib.axes._subplots.AxesSubplot at 0x38ab150>"
      ]
     },
     "execution_count": 11,
     "metadata": {},
     "output_type": "execute_result"
    },
    {
     "data": {
      "image/png": "[encoded data removed]",
      "text/plain": [
       "<Figure size 360x288 with 1 Axes>"
      ]
     },
     "metadata": {},
     "output_type": "display_data"
    }
   ],
   "source": [
    "sb.regplot(x='drat',y='carb',data=cars,scatter=True)"
   ]
  },
  {
   "cell_type": "heading",
   "metadata": {},
   "level": 3,
   "source": [
    "We can see from the above fig that the points are positioned at specific groups and are not continuous.\n",
    "Next, we see if these features are independent."
   ]
  },
  {
   "cell_type": "code",
   "execution_count": 12,
   "metadata": {},
   "outputs": [
    {
     "name": "stdout",
     "output_type": "stream",
     "text": [
      "spearman rank correlation coefficient -0.125\n"
     ]
    }
   ],
   "source": [
    "drat = cars['drat']\n",
    "carb = cars['carb']\n",
    "\n",
    "spearmanr_coeff,p_value = spearmanr(drat,carb)\n",
    "print('spearman rank correlation coefficient %0.3f' %(spearmanr_coeff))"
   ]
  },
  {
   "cell_type": "heading",
   "metadata": {},
   "level": 3,
   "source": [
    "The above value is almost indicating no relation between two variables"
   ]
  },
  {
   "cell_type": "heading",
   "metadata": {},
   "level": 4,
   "source": [
    "Checking for no missing values in the datasets"
   ]
  },
  {
   "cell_type": "code",
   "execution_count": 13,
   "metadata": {},
   "outputs": [
    {
     "data": {
      "text/plain": [
       "cars_name    0\nmpg          0\ncyl          0\ndisp         0\nhp           0\ndrat         0\nwt           0\nqsec         0\nvs           0\nam           0\ngear         0\ncarb         0\ndtype: int64"
      ]
     },
     "execution_count": 13,
     "metadata": {},
     "output_type": "execute_result"
    }
   ],
   "source": [
    "cars.isnull().sum()"
   ]
  },
  {
   "cell_type": "heading",
   "metadata": {},
   "level": 4,
   "source": [
    "Checking whether target is binary or ordinal"
   ]
  },
  {
   "cell_type": "code",
   "execution_count": 15,
   "metadata": {},
   "outputs": [
    {
     "data": {
      "text/plain": [
       "<matplotlib.axes._subplots.AxesSubplot at 0xe9f7f70>"
      ]
     },
     "execution_count": 15,
     "metadata": {},
     "output_type": "execute_result"
    },
    {
     "data": {
      "image/png": "[encoded data removed]",
      "text/plain": [
       "<Figure size 360x288 with 1 Axes>"
      ]
     },
     "metadata": {},
     "output_type": "display_data"
    }
   ],
   "source": [
    "sb.countplot(x='am',data=cars,palette='hls')"
   ]
  },
  {
   "cell_type": "heading",
   "metadata": {},
   "level": 3,
   "source": [
    "Checking whethere size of data set is sufficient, 50 observations per predictor.\n",
    "This we do by calling info() method of data frame"
   ]
  },
  {
   "cell_type": "code",
   "execution_count": 17,
   "metadata": {},
   "outputs": [
    {
     "name": "stdout",
     "output_type": "stream",
     "text": [
      "<class 'pandas.core.frame.DataFrame'>\nRangeIndex: 32 entries, 0 to 31\nData columns (total 12 columns):\ncars_name    32 non-null object\nmpg          32 non-null float64\ncyl          32 non-null int64\ndisp         32 non-null float64\nhp           32 non-null int64\ndrat         32 non-null float64\nwt           32 non-null float64\nqsec         32 non-null float64\nvs           32 non-null int64\nam           32 non-null int64\ngear         32 non-null int64\ncarb         32 non-null int64\ndtypes: float64(5), int64(6), object(1)\nmemory usage: 2.9+ KB\n"
     ]
    }
   ],
   "source": [
    "cars.info()\n",
    "\n",
    "# In the below output the data set is very small with 32 entries"
   ]
  },
  {
   "cell_type": "heading",
   "metadata": {},
   "level": 3,
   "source": [
    "Deploying and evaluating the model"
   ]
  },
  {
   "cell_type": "code",
   "execution_count": 18,
   "metadata": {},
   "outputs": [],
   "source": [
    "X = scale(cars_data)"
   ]
  },
  {
   "cell_type": "code",
   "execution_count": 19,
   "metadata": {},
   "outputs": [
    {
     "name": "stdout",
     "output_type": "stream",
     "text": [
      "0.8125\n"
     ]
    },
    {
     "name": "stderr",
     "output_type": "stream",
     "text": [
      "c:\\program files\\python\\lib\\site-packages\\sklearn\\linear_model\\logistic.py:433: FutureWarning: Default solver will be changed to 'lbfgs' in 0.22. Specify a solver to silence this warning.\n  FutureWarning)\n"
     ]
    }
   ],
   "source": [
    "LogReg = LogisticRegression()\n",
    "\n",
    "LogReg.fit(X,y)\n",
    "print(LogReg.score(X,y))"
   ]
  },
  {
   "cell_type": "code",
   "execution_count": 20,
   "metadata": {},
   "outputs": [
    {
     "name": "stdout",
     "output_type": "stream",
     "text": [
      "              precision    recall  f1-score   support\n\n           0       0.88      0.79      0.83        19\n           1       0.73      0.85      0.79        13\n\n   micro avg       0.81      0.81      0.81        32\n   macro avg       0.81      0.82      0.81        32\nweighted avg       0.82      0.81      0.81        32\n\n"
     ]
    }
   ],
   "source": [
    "y_pred = LogReg.predict(X)\n",
    "from sklearn.metrics import classification_report\n",
    "\n",
    "print(classification_report(y,y_pred))"
   ]
  },
  {
   "cell_type": "heading",
   "metadata": {},
   "level": 3,
   "source": [
    "From the above figure, the Precision value is 0.81 and recall value \n",
    "is 0.81, which is adequate."
   ]
  }
 ],
 "metadata": {
  "kernelspec": {
   "display_name": "Python 2",
   "language": "python",
   "name": "python2"
  },
  "language_info": {
   "codemirror_mode": {
    "name": "ipython",
    "version": 2
   },
   "file_extension": ".py",
   "mimetype": "text/x-python",
   "name": "python",
   "nbconvert_exporter": "python",
   "pygments_lexer": "ipython2",
   "version": "2.7.6"
  }
 },
 "nbformat": 4,
 "nbformat_minor": 0
}
