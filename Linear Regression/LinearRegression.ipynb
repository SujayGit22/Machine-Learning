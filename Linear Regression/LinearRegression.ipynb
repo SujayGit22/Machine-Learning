{
 "cells": [
  {
   "cell_type": "code",
   "execution_count": 1,
   "metadata": {},
   "outputs": [],
   "source": [
    "# Importing necessary  libraries\n",
    "import numpy as np\n",
    "import pandas as pd\n",
    "import matplotlib.pyplot as plt"
   ]
  },
  {
   "cell_type": "code",
   "execution_count": 16,
   "metadata": {},
   "outputs": [],
   "source": [
    "plt.rcParams['figure.figsize'] = (10.0,5.0)"
   ]
  },
  {
   "cell_type": "code",
   "execution_count": 9,
   "metadata": {},
   "outputs": [
    {
     "name": "stdout",
     "output_type": "stream",
     "text": [
      "(237, 4)\n   Gender  Age Range  Head Size(cm^3)  Brain Weight(grams)\n0       1          1             4512                 1530\n1       1          1             3738                 1297\n2       1          1             4261                 1335\n3       1          1             3777                 1282\n4       1          1             4177                 1590\n"
     ]
    }
   ],
   "source": [
    "# Reading data\n",
    "data = pd.read_csv('D:\\Workspace\\Machine Learning\\Linear Regression\\headbrain.csv')\n",
    "print(data.shape)\n",
    "print(data.head())\n"
   ]
  },
  {
   "cell_type": "code",
   "execution_count": 10,
   "metadata": {},
   "outputs": [],
   "source": [
    "# Fetching X and Y values\n",
    "X = data['Head Size(cm^3)'].values\n",
    "Y = data['Brain Weight(grams)'].values"
   ]
  },
  {
   "cell_type": "code",
   "execution_count": 11,
   "metadata": {},
   "outputs": [],
   "source": [
    "# Now we will find the coefficients b0 and b1\n",
    "# To find coeff we need mean of x and Y\n",
    "\n",
    "# Mean of X and Y\n",
    "X_mean = np.mean(X)\n",
    "Y_mean = np.mean(Y)\n",
    "\n",
    "# total values\n",
    "m = len(X)\n",
    "\n",
    "# Using the formula to calculate b0 and b1\n",
    "sigma_numer = 0\n",
    "deno = 0\n",
    "for i in range(m):\n",
    "    sigma_numer += (X[i] - X_mean) * (Y[i] - Y_mean)\n",
    "    deno += (X[i] - X_mean)**2\n",
    "b1 = sigma_numer / deno\n",
    "b0 = Y_mean - (b1 * X_mean)"
   ]
  },
  {
   "cell_type": "code",
   "execution_count": 12,
   "metadata": {},
   "outputs": [
    {
     "name": "stdout",
     "output_type": "stream",
     "text": [
      "0.26342933948939945 325.57342104944223\n"
     ]
    }
   ],
   "source": [
    "# Coefficients\n",
    "print(b1,b0)\n"
   ]
  },
  {
   "cell_type": "code",
   "execution_count": 17,
   "metadata": {},
   "outputs": [
    {
     "data": {
      "image/png": "[encoded data removed]",
      "text/plain": [
       "<Figure size 720x360 with 1 Axes>"
      ]
     },
     "metadata": {},
     "output_type": "display_data"
    }
   ],
   "source": [
    "# Plotting values and regression line\n",
    "max_X = np.max(X) + 100\n",
    "min_X = np.min(X) - 100\n",
    "\n",
    "# Calculate line values X and Y\n",
    "x = np.linspace(min_X,max_X,1000)\n",
    "y = b0 + b1 * x\n",
    "\n",
    "# Ploting line\n",
    "plt.plot(x,y,color='Blue',label=\"Regression Line\")\n",
    "# Scatter Plot\n",
    "plt.scatter(X,Y,c='Red',label=\"Scatter Plot\")\n",
    "\n",
    "plt.xlabel(\"Head Size in cm3\")\n",
    "plt.ylabel(\"Brain weight in grams\")\n",
    "plt.legend()\n",
    "plt.show()"
   ]
  },
  {
   "cell_type": "code",
   "execution_count": 18,
   "metadata": {},
   "outputs": [
    {
     "name": "stdout",
     "output_type": "stream",
     "text": [
      "72.1206213783709\n"
     ]
    }
   ],
   "source": [
    "# Now we will evaluate the model, there are many methods, \n",
    "# RMSE, coefficient of Determination\n",
    "# Calculating root mean squared error\n",
    "rmse = 0\n",
    "for i in range(m):\n",
    "    y_pred = b0 + b1 * X[i]\n",
    "    rmse += (Y[i] - y_pred) ** 2\n",
    "rmse = np.sqrt(rmse/m)\n",
    "print(rmse)"
   ]
  },
  {
   "cell_type": "code",
   "execution_count": 19,
   "metadata": {},
   "outputs": [
    {
     "name": "stdout",
     "output_type": "stream",
     "text": [
      "0.6393117199570003\n"
     ]
    }
   ],
   "source": [
    "# Determining R^2\n",
    "# first we will calculate, total sum of squares(tss) \n",
    "# and residual sum of squares(rss)\n",
    "\n",
    "tss = 0\n",
    "rss = 0\n",
    "for i in range(m):\n",
    "    y_pred = b0 + b1 * X[i]\n",
    "    tss += (Y[i] - Y_mean) ** 2\n",
    "    rss += (Y[i] - y_pred) ** 2\n",
    "r2 = 1 - (rss/tss)\n",
    "print(r2)"
   ]
  },
  {
   "cell_type": "code",
   "execution_count": null,
   "metadata": {},
   "outputs": [],
   "source": []
  }
 ],
 "metadata": {
  "kernelspec": {
   "display_name": "Python 3",
   "language": "python",
   "name": "python3"
  },
  "language_info": {
   "codemirror_mode": {
    "name": "ipython",
    "version": 3
   },
   "file_extension": ".py",
   "mimetype": "text/x-python",
   "name": "python",
   "nbconvert_exporter": "python",
   "pygments_lexer": "ipython3",
   "version": "3.6.5"
  }
 },
 "nbformat": 4,
 "nbformat_minor": 2
}
