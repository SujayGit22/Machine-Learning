{
 "cells": [
  {
   "cell_type": "code",
   "execution_count": 4,
   "metadata": {
    "collapsed": true
   },
   "outputs": [
    {
     "data": {
      "text/plain": [
       "'\\nNaive Bayes classifier is a frequency table based classifier.It is based on Bayes theorem,with independent \\nassumptions between predictors.Meaning, the knowing the values of one predictor gives no information about \\nthe value of other predictor.Or there is no relationship between the predictors.It is quite easy to build, \\nthere is no complicated iterative parameter estimation,which makes it particularly useful for large data sets.\\n\\nNB classifier assumes that the effect of the value of the predictor(X) on the given class(c) is independent\\nof the values of the other predictors,this assumption is called class conditional independence.\\n'"
      ]
     },
     "execution_count": 4,
     "metadata": {},
     "output_type": "execute_result"
    }
   ],
   "source": [
    "\"\"\"\n",
    "Naive Bayes classifier is a frequency table based classifier.It is based on Bayes theorem,with independent \n",
    "assumptions between predictors.Meaning, the knowing the values of one predictor gives no information about \n",
    "the value of other predictor.Or there is no relationship between the predictors.It is quite easy to build, \n",
    "there is no complicated iterative parameter estimation,which makes it particularly useful for large data sets.\n",
    "\n",
    "NB classifier assumes that the effect of the value of the predictor(X) on the given class(c) is independent\n",
    "of the values of the other predictors,this assumption is called class conditional independence.\n",
    "\"\"\""
   ]
  },
  {
   "cell_type": "code",
   "execution_count": 3,
   "metadata": {},
   "outputs": [],
   "source": [
    "import numpy as np\n",
    "import pandas as pd\n",
    "from sklearn.naive_bayes import GaussianNB\n",
    "from sklearn.preprocessing import LabelEncoder\n",
    "from sklearn.model_selection import train_test_split\n",
    "from sklearn.metrics import accuracy_score"
   ]
  },
  {
   "cell_type": "code",
   "execution_count": 5,
   "metadata": {},
   "outputs": [
    {
     "name": "stdout",
     "output_type": "stream",
     "text": [
      "    Outlook Temperature Humidity    Wind Play Tennis\n0     Sunny         Hot     High    Weak          No\n1     Sunny         Hot     High  Strong          No\n2  Overcast         Hot     High    Weak         Yes\n3      Rain        Mild     High    Weak         Yes\n4      Rain        Cool   Normal    Weak         Yes\n"
     ]
    }
   ],
   "source": [
    "# Data Preparation\n",
    "data = pd.read_csv(\"PlayTennis.csv\")\n",
    "print(data.head())"
   ]
  },
  {
   "cell_type": "code",
   "execution_count": 6,
   "metadata": {},
   "outputs": [],
   "source": [
    "# Label Encoder converts the categorical data into number ranging from 1 to n-1,\n",
    "# where n is the number of classes in the variable\n",
    "number = LabelEncoder()\n",
    "data['Outlook'] = number.fit_transform(data['Outlook'])\n",
    "data['Temperature'] = number.fit_transform(data['Temperature'])\n",
    "data['Humidity'] = number.fit_transform(data['Humidity'])\n",
    "data['Wind'] = number.fit_transform(data['Wind'])\n",
    "data['Play Tennis'] = number.fit_transform(data['Play Tennis'])"
   ]
  },
  {
   "cell_type": "code",
   "execution_count": 7,
   "metadata": {},
   "outputs": [],
   "source": [
    "# Defining X and Y\n",
    "X = ['Outlook','Temperature','Humidity','Wind']\n",
    "Y = \"Play Tennis\""
   ]
  },
  {
   "cell_type": "code",
   "execution_count": 8,
   "metadata": {},
   "outputs": [],
   "source": [
    "# Splitting data into training and test data\n",
    "x_train, x_test, y_train, y_test = train_test_split(data[X],data[Y],test_size=0.33,random_state=54)"
   ]
  },
  {
   "cell_type": "code",
   "execution_count": 9,
   "metadata": {},
   "outputs": [],
   "source": [
    "# Defining the Gaussian Naive Bayes model\n",
    "model = GaussianNB()\n",
    "# Model fitting on training data\n",
    "model.fit(x_train,y_train)\n",
    "# Predicting model on test data\n",
    "pred = model.predict(x_test)"
   ]
  },
  {
   "cell_type": "code",
   "execution_count": 10,
   "metadata": {},
   "outputs": [
    {
     "name": "stdout",
     "output_type": "stream",
     "text": [
      "0.8\n"
     ]
    }
   ],
   "source": [
    "# Calculating the accuracy of the model\n",
    "accuracy = accuracy_score(y_test,pred)\n",
    "print(accuracy)"
   ]
  },
  {
   "cell_type": "code",
   "execution_count": 13,
   "metadata": {},
   "outputs": [
    {
     "name": "stdout",
     "output_type": "stream",
     "text": [
      "[1]\n[0]\n"
     ]
    }
   ],
   "source": [
    "# Prediction for unseen data\n",
    "# Outlook| Temperature|\tHumidity| Wind\n",
    "# ----------------------------------------\n",
    "# Rain\t | Mild\t      | High\t| Weak\n",
    "# Prediction 1 means Yes and 0 means NO\n",
    "print(model.predict([[1,2,0,1]]))\n",
    "print(model.predict([[2,0,0,2]]))"
   ]
  },
  {
   "cell_type": "code",
   "execution_count": null,
   "metadata": {},
   "outputs": [
    {
     "name": "stdout",
     "output_type": "stream",
     "text": [
      "[1]\n"
     ]
    }
   ],
   "source": [
    "# Conclusion: If the prediction results in 1 means, conditions suitable to play tennis\n",
    "# else conditions are not suitable to play"
   ]
  },
  {
   "cell_type": "code",
   "execution_count": null,
   "metadata": {},
   "outputs": [],
   "source": []
  }
 ],
 "metadata": {
  "kernelspec": {
   "display_name": "Python 2",
   "language": "python",
   "name": "python2"
  },
  "language_info": {
   "codemirror_mode": {
    "name": "ipython",
    "version": 2
   },
   "file_extension": ".py",
   "mimetype": "text/x-python",
   "name": "python",
   "nbconvert_exporter": "python",
   "pygments_lexer": "ipython2",
   "version": "2.7.6"
  }
 },
 "nbformat": 4,
 "nbformat_minor": 0
}
