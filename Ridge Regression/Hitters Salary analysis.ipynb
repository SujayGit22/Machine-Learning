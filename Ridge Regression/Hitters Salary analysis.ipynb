{
 "cells": [
  {
   "cell_type": "code",
   "execution_count": 1,
   "metadata": {
    "collapsed": true
   },
   "outputs": [
    {
     "data": {
      "text/plain": [
       "'\\nHitters dataset Salary component analysis,model used Ridge and Lasso regression\\nLibraries used - Scikit-learn, Pandas, matplotlib\\nProblem - Prediction of the Salary variable on the unseen categorical data points\\nSolution -  Applying Ridge and Lasso regression to predict.\\nHow Ridge regression differ from Lasso is explained in the implentation\\n'"
      ]
     },
     "execution_count": 1,
     "metadata": {},
     "output_type": "execute_result"
    }
   ],
   "source": [
    "\"\"\"\n",
    "Hitters dataset Salary component analysis,model used Ridge and Lasso regression\n",
    "Libraries used - Scikit-learn, Pandas, matplotlib\n",
    "Problem - Prediction of the Salary variable on the unseen categorical data points\n",
    "Solution -  Applying Ridge and Lasso regression to predict.\n",
    "How Ridge regression differ from Lasso is explained in the implentation\n",
    "\"\"\""
   ]
  },
  {
   "cell_type": "code",
   "execution_count": 2,
   "metadata": {},
   "outputs": [],
   "source": [
    "import numpy as np\n",
    "import pandas as pd\n",
    "import matplotlib.pyplot as plt\n",
    "\n",
    "from sklearn.preprocessing import scale\n",
    "from sklearn.model_selection import train_test_split\n",
    "from sklearn.linear_model import Ridge,RidgeCV,Lasso,LassoCV\n",
    "from sklearn.metrics import mean_squared_error\n"
   ]
  },
  {
   "cell_type": "code",
   "execution_count": 4,
   "metadata": {},
   "outputs": [
    {
     "name": "stdout",
     "output_type": "stream",
     "text": [
      "(322, 20)\n   AtBat  Hits  HmRun  Runs  RBI  Walks  Years  CAtBat  CHits  CHmRun  CRuns  \\\n0    293    66      1    30   29     14      1     293     66       1     30   \n1    315    81      7    24   38     39     14    3449    835      69    321   \n2    479   130     18    66   72     76      3    1624    457      63    224   \n3    496   141     20    65   78     37     11    5628   1575     225    828   \n4    321    87     10    39   42     30      2     396    101      12     48   \n\n   CRBI  CWalks League Division  PutOuts  Assists  Errors  Salary NewLeague  \n0    29      14      A        E      446       33      20     NaN         A  \n1   414     375      N        W      632       43      10   475.0         N  \n2   266     263      A        W      880       82      14   480.0         A  \n3   838     354      N        E      200       11       3   500.0         N  \n4    46      33      N        E      805       40       4    91.5         N  \n"
     ]
    }
   ],
   "source": [
    "# Loading of Data\n",
    "data = pd.read_csv(\"Hitters.csv\")\n",
    "print(data.shape)\n",
    "print(data.head())"
   ]
  },
  {
   "cell_type": "code",
   "execution_count": 6,
   "metadata": {},
   "outputs": [
    {
     "name": "stdout",
     "output_type": "stream",
     "text": [
      "            AtBat        Hits       HmRun        Runs         RBI       Walks  \\\ncount  263.000000  263.000000  263.000000  263.000000  263.000000  263.000000   \nmean   403.642586  107.828897   11.619772   54.745247   51.486692   41.114068   \nstd    147.307209   45.125326    8.757108   25.539816   25.882714   21.718056   \nmin     19.000000    1.000000    0.000000    0.000000    0.000000    0.000000   \n25%    282.500000   71.500000    5.000000   33.500000   30.000000   23.000000   \n50%    413.000000  103.000000    9.000000   52.000000   47.000000   37.000000   \n75%    526.000000  141.500000   18.000000   73.000000   71.000000   57.000000   \nmax    687.000000  238.000000   40.000000  130.000000  121.000000  105.000000   \n\n            Years        CAtBat        CHits      CHmRun        CRuns  \\\ncount  263.000000    263.000000   263.000000  263.000000   263.000000   \nmean     7.311787   2657.543726   722.186312   69.239544   361.220532   \nstd      4.793616   2286.582929   648.199644   82.197581   331.198571   \nmin      1.000000     19.000000     4.000000    0.000000     2.000000   \n25%      4.000000    842.500000   212.000000   15.000000   105.500000   \n50%      6.000000   1931.000000   516.000000   40.000000   250.000000   \n75%     10.000000   3890.500000  1054.000000   92.500000   497.500000   \nmax     24.000000  14053.000000  4256.000000  548.000000  2165.000000   \n\n              CRBI       CWalks      PutOuts     Assists      Errors  \\\ncount   263.000000   263.000000   263.000000  263.000000  263.000000   \nmean    330.418251   260.266160   290.711027  118.760456    8.593156   \nstd     323.367668   264.055868   279.934575  145.080577    6.606574   \nmin       3.000000     1.000000     0.000000    0.000000    0.000000   \n25%      95.000000    71.000000   113.500000    8.000000    3.000000   \n50%     230.000000   174.000000   224.000000   45.000000    7.000000   \n75%     424.500000   328.500000   322.500000  192.000000   13.000000   \nmax    1659.000000  1566.000000  1377.000000  492.000000   32.000000   \n\n            Salary  \ncount   263.000000  \nmean    535.925882  \nstd     451.118681  \nmin      67.500000  \n25%     190.000000  \n50%     425.000000  \n75%     750.000000  \nmax    2460.000000  \n"
     ]
    }
   ],
   "source": [
    "# Data Preparation\n",
    "# Removing the missing values\n",
    "data = data.dropna()\n",
    "print(data.describe())"
   ]
  },
  {
   "cell_type": "code",
   "execution_count": 9,
   "metadata": {},
   "outputs": [],
   "source": [
    "# Getting Dummies for Object/Categorical datatype\n",
    "# Converting categorical variable into Dummy/Indicator variables\n",
    "dummies = pd.get_dummies(data[['League','Division','NewLeague']])"
   ]
  },
  {
   "cell_type": "code",
   "execution_count": 10,
   "metadata": {},
   "outputs": [],
   "source": [
    "# Defining salary as the response variable\n",
    "y = data.Salary\n"
   ]
  },
  {
   "cell_type": "code",
   "execution_count": 11,
   "metadata": {},
   "outputs": [],
   "source": [
    "# Preparing predictor variables\n",
    "# Dropping  Salary column and dummy variable created columns\n",
    "X_temp = data.drop(['Salary','League','Division','NewLeague'],axis=1).astype('float64')\n",
    "# Concatenating all the X variables\n",
    "X = pd.concat([X_temp,dummies[['League_N', 'Division_W','NewLeague_N']]],axis=1)\n"
   ]
  },
  {
   "cell_type": "code",
   "execution_count": 12,
   "metadata": {},
   "outputs": [
    {
     "name": "stdout",
     "output_type": "stream",
     "text": [
      "alpha 1st value = 5000000000.0, alpha last value=0.005\n"
     ]
    }
   ],
   "source": [
    "# Ridge regression uses alpha argument to tune the model. Below steps would generate alpha ranging from small \n",
    "# value to high,covering all scenarios, null model to least square fit.\n",
    "# creating 100 values of alpha smallest value to big values.\n",
    "\n",
    "alphas = 10**np.linspace(10, -2, 100) * 0.5\n",
    "\n",
    "# 100 alphas values range. Printing first value and last value\n",
    "print(\"alpha 1st value = {},\".format(alphas[0]), \"alpha last value={}\".format(alphas[-1]))\n"
   ]
  },
  {
   "cell_type": "code",
   "execution_count": 13,
   "metadata": {},
   "outputs": [
    {
     "data": {
      "text/plain": [
       "(100, 19)"
      ]
     },
     "execution_count": 13,
     "metadata": {},
     "output_type": "execute_result"
    }
   ],
   "source": [
    "# Standardize the variables to bring them on same scale\n",
    "ridge = Ridge(normalize=True)\n",
    "coeff = []\n",
    "# Assigning 100 alpha value to each X,Y\n",
    "for i in alphas:\n",
    "    ridge.set_params(alpha = i)\n",
    "    ridge.fit(X,y)\n",
    "    coeff.append(ridge.coef_)\n",
    "\n",
    "np.shape(coeff)"
   ]
  },
  {
   "cell_type": "code",
   "execution_count": 14,
   "metadata": {},
   "outputs": [
    {
     "data": {
      "image/png": "[encoded data removed]",
      "text/plain": [
       "<Figure size 432x288 with 1 Axes>"
      ]
     },
     "metadata": {},
     "output_type": "display_data"
    }
   ],
   "source": [
    "# plotting alpha value\n",
    "ax = plt.gca()\n",
    "ax.plot(alphas, coeff)\n",
    "ax.set_xscale('log')\n",
    "plt.axis('tight')\n",
    "plt.xlabel('alpha')\n",
    "plt.ylabel('weights')\n",
    "plt.show()"
   ]
  },
  {
   "cell_type": "code",
   "execution_count": 15,
   "metadata": {},
   "outputs": [],
   "source": [
    "# Split data into training and test data\n",
    "X_train,X_test,y_train,y_test = train_test_split(X,y,test_size=0.5,random_state=1)"
   ]
  },
  {
   "cell_type": "code",
   "execution_count": 19,
   "metadata": {},
   "outputs": [],
   "source": [
    "# Let's randomly choose alpha = 3. Our target is to make the coeff value \n",
    "# almost zero. Higher the number of coeff nearing 0 better is the alpha selected "
   ]
  },
  {
   "cell_type": "code",
   "execution_count": 16,
   "metadata": {},
   "outputs": [
    {
     "name": "stdout",
     "output_type": "stream",
     "text": [
      "AtBat           0.098658\nHits            0.446094\nHmRun           1.412107\nRuns            0.660773\nRBI             0.843403\nWalks           1.008473\nYears           2.779882\nCAtBat          0.008244\nCHits           0.034149\nCHmRun          0.268634\nCRuns           0.070407\nCRBI            0.070060\nCWalks          0.082795\nPutOuts         0.104747\nAssists        -0.003739\nErrors          0.268363\nLeague_N        4.241051\nDivision_W    -30.768885\nNewLeague_N     4.123474\ndtype: float64\nAlpha=4,MSE=106216.52\n"
     ]
    }
   ],
   "source": [
    "# Fitting ridge regression model on the training set, and evaluate its MSE on the test set result, when alpha=3\n",
    "ridge2 = Ridge(alpha=3,normalize=True)\n",
    "ridge2.fit(X_train,y_train)\n",
    "pred2 = ridge2.predict(X_test)\n",
    "print(pd.Series(ridge2.coef_,index= X.columns))\n",
    "print(\"Alpha={0},MSE={1:9.2f}\".format(4,mean_squared_error(y_test,pred2)))"
   ]
  },
  {
   "cell_type": "code",
   "execution_count": 20,
   "metadata": {},
   "outputs": [],
   "source": [
    "# Checking the coeff values when Alpha=10**10 (Biggest alpha selected) "
   ]
  },
  {
   "cell_type": "code",
   "execution_count": 21,
   "metadata": {},
   "outputs": [
    {
     "name": "stdout",
     "output_type": "stream",
     "text": [
      "AtBat          1.317464e-10\nHits           4.647486e-10\nHmRun          2.079865e-09\nRuns           7.726175e-10\nRBI            9.390640e-10\nWalks          9.769219e-10\nYears          3.961442e-09\nCAtBat         1.060533e-11\nCHits          3.993605e-11\nCHmRun         2.959428e-10\nCRuns          8.245247e-11\nCRBI           7.795451e-11\nCWalks         9.894387e-11\nPutOuts        7.268991e-11\nAssists       -2.615885e-12\nErrors         2.084514e-10\nLeague_N      -2.501281e-09\nDivision_W    -1.549951e-08\nNewLeague_N   -2.023196e-09\ndtype: float64\nAlpha=10000000000,MSE=172862.24\n"
     ]
    }
   ],
   "source": [
    "# result when alpha = 10**10\n",
    "ridge3 = Ridge(alpha=10**10,normalize=True)\n",
    "ridge3.fit(X_train,y_train)\n",
    "pred3 = ridge3.predict(X_test)\n",
    "print(pd.Series(ridge3.coef_,index= X.columns))\n",
    "print(\"Alpha={0},MSE={1:9.2f}\".format(10**10,mean_squared_error(y_test,pred3)))"
   ]
  },
  {
   "cell_type": "code",
   "execution_count": 22,
   "metadata": {},
   "outputs": [],
   "source": [
    "# Neither of the alpha values is giving best results.\n",
    "# Let's check what is the result for least square fit.Alpha =0 "
   ]
  },
  {
   "cell_type": "code",
   "execution_count": 23,
   "metadata": {},
   "outputs": [
    {
     "name": "stdout",
     "output_type": "stream",
     "text": [
      "AtBat           -1.821115\nHits             4.259156\nHmRun           -4.773401\nRuns            -0.038760\nRBI              3.984578\nWalks            3.470126\nYears            9.498236\nCAtBat          -0.605129\nCHits            2.174979\nCHmRun           2.979306\nCRuns            0.266356\nCRBI            -0.598456\nCWalks           0.171383\nPutOuts          0.421063\nAssists          0.464379\nErrors          -6.024576\nLeague_N       133.743163\nDivision_W    -113.743875\nNewLeague_N    -81.927763\ndtype: float64\nAlpha=0,MSE=116690.47\n"
     ]
    }
   ],
   "source": [
    "# Result when alpha = 0  -- Least square fit\n",
    "ridge4 = Ridge(alpha=0,normalize=True)\n",
    "ridge4.fit(X_train,y_train)\n",
    "pred4 = ridge4.predict(X_test)\n",
    "print(pd.Series(ridge4.coef_,index= X.columns))\n",
    "print(\"Alpha={0},MSE={1:9.2f}\".format(0,mean_squared_error(y_test,pred4)))"
   ]
  },
  {
   "cell_type": "code",
   "execution_count": 24,
   "metadata": {},
   "outputs": [],
   "source": [
    "# Choosing Cross-Validation method to to find the best alpha fit"
   ]
  },
  {
   "cell_type": "code",
   "execution_count": 26,
   "metadata": {},
   "outputs": [
    {
     "name": "stdout",
     "output_type": "stream",
     "text": [
      "0.5748784976988678\n"
     ]
    }
   ],
   "source": [
    "# Selecting best alpha using ridge Cross-validation method\n",
    "ridgeCV = RidgeCV(alphas=alphas,scoring='neg_mean_squared_error',normalize=True)\n",
    "ridgeCV.fit(X_train,y_train)\n",
    "print(ridgeCV.alpha_)"
   ]
  },
  {
   "cell_type": "code",
   "execution_count": 28,
   "metadata": {},
   "outputs": [],
   "source": [
    "# Now we can see the aplha found by using cross-validation method fits better.Many of the coeff have neared to 0 value.\n",
    "# This shows that we have achieved a maximum reduction in variance"
   ]
  },
  {
   "cell_type": "code",
   "execution_count": 27,
   "metadata": {},
   "outputs": [
    {
     "name": "stdout",
     "output_type": "stream",
     "text": [
      "AtBat          -0.013534\nHits            0.864143\nHmRun          -0.291615\nRuns            0.721999\nRBI             1.318149\nWalks           2.092914\nYears           1.200022\nCAtBat          0.006651\nCHits           0.052020\nCHmRun          0.513053\nCRuns           0.106745\nCRBI            0.128286\nCWalks          0.098953\nPutOuts         0.280247\nAssists        -0.017241\nErrors         -0.315756\nLeague_N       18.915652\nDivision_W    -92.175508\nNewLeague_N     9.936172\ndtype: float64\nAlpha=0.5748784976988678,MSE= 99825.65\n"
     ]
    }
   ],
   "source": [
    "# Result using Cross validation alpha = 0.57\n",
    "ridge5 = Ridge(alpha = ridgeCV.alpha_, normalize=True)\n",
    "ridge5.fit(X_train,y_train)\n",
    "pred5 = ridge5.predict(X_test)\n",
    "print(pd.Series(ridge5.coef_,index= X.columns))\n",
    "print(\"Alpha={0},MSE={1:9.2f}\".format(ridgeCV.alpha_,mean_squared_error(y_test,pred5)))"
   ]
  },
  {
   "cell_type": "code",
   "execution_count": 29,
   "metadata": {},
   "outputs": [
    {
     "data": {
      "text/plain": [
       "AtBat          -0.013534\nHits            0.864143\nHmRun          -0.291615\nRuns            0.721999\nRBI             1.318149\nWalks           2.092914\nYears           1.200022\nCAtBat          0.006651\nCHits           0.052020\nCHmRun          0.513053\nCRuns           0.106745\nCRBI            0.128286\nCWalks          0.098953\nPutOuts         0.280247\nAssists        -0.017241\nErrors         -0.315756\nLeague_N       18.915652\nDivision_W    -92.175508\nNewLeague_N     9.936172\ndtype: float64"
      ]
     },
     "execution_count": 29,
     "metadata": {},
     "output_type": "execute_result"
    }
   ],
   "source": [
    "# So Cross validation alpha is showing the best result\n",
    "# Deducing  many coeff to 0 than the alpha value with 4 or 0 or etc\n",
    "ridge5.fit(X,y)\n",
    "pd.Series(ridgeCV.coef_,index = X.columns)"
   ]
  },
  {
   "cell_type": "code",
   "execution_count": 31,
   "metadata": {},
   "outputs": [],
   "source": [
    "# ----------------------------------------------------------------------------------------------------\n",
    "# LASSO\n",
    "# The main difference with lasso w.r.t ridge is it enforces the unimportant coeff to 0,\n",
    "# without considering them into formula.\n",
    "# Lasso is used when data points are making large impact on variable Y,in comparision with other variables.\n",
    "# Ridge is used when data points are making smaller impact on variable Y,hence considers all the variables.\n",
    "# -------------------------------------------------------------------------------------------------------------"
   ]
  },
  {
   "cell_type": "code",
   "execution_count": 32,
   "metadata": {},
   "outputs": [
    {
     "data": {
      "image/png": "[encoded data removed]",
      "text/plain": [
       "<Figure size 432x288 with 1 Axes>"
      ]
     },
     "metadata": {},
     "output_type": "display_data"
    }
   ],
   "source": [
    "# Defining lasso with 10,000 iterations for K-fold\n",
    "lasso = Lasso(max_iter = 10000,normalize=True)\n",
    "coeff = []\n",
    "# Assigning alpha to scaled X and y training data\n",
    "for i in alphas:\n",
    "    lasso.set_params(alpha = i)\n",
    "    lasso.fit(scale(X_train),y_train)\n",
    "    coeff.append(lasso.coef_)\n",
    "\n",
    "ax = plt.gca()\n",
    "ax.plot(alphas*2,coeff)\n",
    "ax.set_xscale('log')\n",
    "plt.axis('tight')\n",
    "plt.xlabel('alpha')\n",
    "plt.ylabel('weights')\n",
    "plt.show()"
   ]
  },
  {
   "cell_type": "code",
   "execution_count": 35,
   "metadata": {},
   "outputs": [],
   "source": [
    "# Below output would shows that the Lasso has straight away made the coeff to 0 or didn't consider at all. 13 coefficients has the value 0, which it \n",
    "# considers as unimportant"
   ]
  },
  {
   "cell_type": "code",
   "execution_count": 34,
   "metadata": {},
   "outputs": [
    {
     "name": "stdout",
     "output_type": "stream",
     "text": [
      "AtBat           0.000000\nHits            1.082446\nHmRun           0.000000\nRuns            0.000000\nRBI             0.000000\nWalks           2.906388\nYears           0.000000\nCAtBat          0.000000\nCHits           0.000000\nCHmRun          0.219367\nCRuns           0.000000\nCRBI            0.513975\nCWalks          0.000000\nPutOuts         0.368401\nAssists        -0.000000\nErrors         -0.000000\nLeague_N        0.000000\nDivision_W    -89.064338\nNewLeague_N     0.000000\ndtype: float64\n"
     ]
    }
   ],
   "source": [
    "# Determining best alpha from Cross-validation method\n",
    "lassocv = LassoCV(alphas =None,cv=10,max_iter = 100000,normalize = True)\n",
    "lassocv.fit(X_train,y_train)\n",
    "\n",
    "lasso.set_params(alpha=lassocv.alpha_)\n",
    "lasso.fit(X_train,y_train)\n",
    "pred = lasso.predict(X_test)\n",
    "mean_squared_error(y_test,pred)\n",
    "print(pd.Series(lassocv.coef_,index=X.columns))"
   ]
  },
  {
   "cell_type": "code",
   "execution_count": 38,
   "metadata": {},
   "outputs": [],
   "source": [
    "# Conclusion: Salary component depends on the coefficients which is showing the# higher coefficients value.A non-zero values. Higher the coefficient value \n",
    "# larger is it's impact on Salary Component Y"
   ]
  },
  {
   "cell_type": "code",
   "execution_count": null,
   "metadata": {},
   "outputs": [],
   "source": []
  }
 ],
 "metadata": {
  "kernelspec": {
   "display_name": "Python 2",
   "language": "python",
   "name": "python2"
  },
  "language_info": {
   "codemirror_mode": {
    "name": "ipython",
    "version": 2
   },
   "file_extension": ".py",
   "mimetype": "text/x-python",
   "name": "python",
   "nbconvert_exporter": "python",
   "pygments_lexer": "ipython2",
   "version": "2.7.6"
  }
 },
 "nbformat": 4,
 "nbformat_minor": 0
}
