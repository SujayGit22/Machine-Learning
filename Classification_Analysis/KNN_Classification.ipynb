{
 "cells": [
  {
   "cell_type": "heading",
   "metadata": {
    "collapsed": true
   },
   "level": 3,
   "source": [
    "K-Nearest Neighbour Classification is a supervised machine learning used to classify instances \n",
    "based on arithematic difference between features in a labeled data set"
   ]
  },
  {
   "cell_type": "heading",
   "metadata": {},
   "level": 3,
   "source": [
    "K-Nearest neighbour works by memorizing observations within a labeled test set \n",
    "to predict classifiction labels for new,incoming, and unlabeled observations\n"
   ]
  },
  {
   "cell_type": "heading",
   "metadata": {},
   "level": 3,
   "source": [
    "k-NN makes predictions based on how similar training observations are to the new,incoming observations.The more similar the \n",
    "observations value, the more likely they will be classified with the same label."
   ]
  },
  {
   "cell_type": "code",
   "execution_count": null,
   "metadata": {},
   "outputs": [],
   "source": [
    "'''The assumptions of k-NN are- \n",
    "1. The data set has little noise that its labeled\n",
    "2. That it contains only relevent features\n",
    "3. The dataset has distinguishable sub-groups\n",
    "\n",
    "Avoid using k-NN on large datasets.Because,it will probably take way to long '''"
   ]
  },
  {
   "cell_type": "code",
   "execution_count": 1,
   "metadata": {},
   "outputs": [],
   "source": [
    "import numpy as np\n",
    "import pandas as pd\n",
    "import scipy\n",
    "\n",
    "import matplotlib.pyplot as plt\n",
    "from pylab import rcParams\n",
    "\n",
    "import urllib\n",
    "\n",
    "import sklearn\n",
    "from sklearn.neighbors import KNeighborsClassifier\n",
    "from sklearn import neighbors\n",
    "from sklearn import preprocessing\n",
    "from sklearn.model_selection import train_test_split\n",
    "from sklearn import metrics"
   ]
  },
  {
   "cell_type": "code",
   "execution_count": 3,
   "metadata": {},
   "outputs": [],
   "source": [
    "%matplotlib inline\n",
    "np.set_printoptions(precision=4,suppress=True)\n",
    "rcParams['figure.figsize'] = 7,4\n",
    "plt.style.use('seaborn-whitegrid')"
   ]
  },
  {
   "cell_type": "heading",
   "metadata": {},
   "level": 4,
   "source": [
    "Splitting your data into test and training datasets"
   ]
  },
  {
   "cell_type": "code",
   "execution_count": 4,
   "metadata": {},
   "outputs": [],
   "source": [
    "addr = \"C:/Users/Sujay/Workspace/CH04_Classification_Analysis/mtcars.csv\"\n",
    "cars = pd.read_csv(addr)\n",
    "cars.columns = ['cars_name','mpg','cyl','disp','hp','drat','wt','qsec','vs','am','gear','carb']\n",
    "X_prime = cars.iloc[:,[1,3,4,6]].values\n",
    "y = cars.iloc[:,9].values\n",
    "\n",
    "X = preprocessing.scale(X_prime)\n",
    "X_train,X_test,y_train,y_test = train_test_split(X,y,test_size=0.33,random_state=17)"
   ]
  },
  {
   "cell_type": "heading",
   "metadata": {},
   "level": 3,
   "source": [
    "Building and training the model with training data"
   ]
  },
  {
   "cell_type": "code",
   "execution_count": 29,
   "metadata": {},
   "outputs": [
    {
     "name": "stdout",
     "output_type": "stream",
     "text": [
      "KNeighborsClassifier(algorithm='auto', leaf_size=30, metric='minkowski',\n           metric_params=None, n_jobs=None, n_neighbors=5, p=2,\n           weights='uniform')\n"
     ]
    }
   ],
   "source": [
    "clf = neighbors.KNeighborsClassifier()\n",
    "clf.fit(X_train,y_train)\n",
    "print(clf)"
   ]
  },
  {
   "cell_type": "heading",
   "metadata": {},
   "level": 4,
   "source": [
    "Evaluating model prediction against the test data"
   ]
  },
  {
   "cell_type": "code",
   "execution_count": 33,
   "metadata": {},
   "outputs": [
    {
     "name": "stdout",
     "output_type": "stream",
     "text": [
      "              precision    recall  f1-score   support\n\n           0       0.71      1.00      0.83         5\n           1       1.00      0.67      0.80         6\n\n   micro avg       0.82      0.82      0.82        11\n   macro avg       0.86      0.83      0.82        11\nweighted avg       0.87      0.82      0.82        11\n\n"
     ]
    }
   ],
   "source": [
    "y_expect = y_test\n",
    "y_pred = clf.predict(X_test)                               \n",
    "\n",
    "print(metrics.classification_report(y_expect,y_pred))"
   ]
  }
 ],
 "metadata": {
  "kernelspec": {
   "display_name": "Python 2",
   "language": "python",
   "name": "python2"
  },
  "language_info": {
   "codemirror_mode": {
    "name": "ipython",
    "version": 2
   },
   "file_extension": ".py",
   "mimetype": "text/x-python",
   "name": "python",
   "nbconvert_exporter": "python",
   "pygments_lexer": "ipython2",
   "version": "2.7.6"
  }
 },
 "nbformat": 4,
 "nbformat_minor": 0
}
